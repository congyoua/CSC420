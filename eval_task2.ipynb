{
 "cells": [
  {
   "cell_type": "code",
   "execution_count": 1,
   "id": "4666e154",
   "metadata": {},
   "outputs": [],
   "source": [
    "import os\n",
    "import numpy as np\n",
    "import torch\n",
    "import evaluate\n",
    "from tqdm.notebook import tqdm\n",
    "from PIL import Image\n",
    "from torch import nn\n",
    "from transformers import SegformerImageProcessor\n",
    "from model import SegFormer1, SegFormer2\n",
    "from utils import preprocessor\n",
    "from torch.utils.data import DataLoader\n"
   ]
  },
  {
   "cell_type": "code",
   "execution_count": 6,
   "id": "63d4e2bf",
   "metadata": {},
   "outputs": [
    {
     "name": "stdout",
     "output_type": "stream",
     "text": [
      "Number of training examples: 300\n",
      "Number of validation examples: 60\n",
      "Number of test examples: 240\n"
     ]
    }
   ],
   "source": [
    "image_processor = SegformerImageProcessor.from_pretrained(\"nvidia/mit-b0\")\n",
    "_, _, test_dataset = preprocessor.get_datasets(task=2)\n",
    "test_dataloader = DataLoader(test_dataset, batch_size=12)\n"
   ]
  },
  {
   "cell_type": "code",
   "execution_count": 3,
   "id": "c120c564",
   "metadata": {},
   "outputs": [
    {
     "name": "stderr",
     "output_type": "stream",
     "text": [
      "Some weights of the model checkpoint at nvidia/mit-b0 were not used when initializing SegformerForSemanticSegmentation: ['classifier.weight', 'classifier.bias']\n",
      "- This IS expected if you are initializing SegformerForSemanticSegmentation from the checkpoint of a model trained on another task or with another architecture (e.g. initializing a BertForSequenceClassification model from a BertForPreTraining model).\n",
      "- This IS NOT expected if you are initializing SegformerForSemanticSegmentation from the checkpoint of a model that you expect to be exactly identical (initializing a BertForSequenceClassification model from a BertForSequenceClassification model).\n",
      "Some weights of SegformerForSemanticSegmentation were not initialized from the model checkpoint at nvidia/mit-b0 and are newly initialized: ['decode_head.linear_c.3.proj.weight', 'decode_head.linear_c.2.proj.bias', 'decode_head.linear_c.0.proj.bias', 'decode_head.batch_norm.running_var', 'decode_head.batch_norm.bias', 'decode_head.linear_c.3.proj.bias', 'decode_head.batch_norm.running_mean', 'decode_head.linear_fuse.weight', 'decode_head.linear_c.1.proj.bias', 'decode_head.linear_c.2.proj.weight', 'decode_head.batch_norm.num_batches_tracked', 'decode_head.linear_c.0.proj.weight', 'decode_head.classifier.bias', 'decode_head.linear_c.1.proj.weight', 'decode_head.batch_norm.weight', 'decode_head.classifier.weight']\n",
      "You should probably TRAIN this model on a down-stream task to be able to use it for predictions and inference.\n"
     ]
    }
   ],
   "source": [
    "model = SegFormer2.get_model()\n",
    "checkpoint = torch.load(\"output/task2_best_model.pth\")\n",
    "model.load_state_dict(checkpoint)\n",
    "id2label = {int(line.split()[0][:-1]): line.split()[1] for line in open(\"data/labels.txt\")}\n",
    "# use CUDA if available\n",
    "device = torch.device(\"cuda\" if torch.cuda.is_available() else \"cpu\")\n",
    "model.to(device)\n",
    "model.eval()\n",
    "test_metric = evaluate.load(\"mean_iou\")"
   ]
  },
  {
   "cell_type": "code",
   "execution_count": 4,
   "id": "af608e03",
   "metadata": {
    "scrolled": false
   },
   "outputs": [
    {
     "data": {
      "application/vnd.jupyter.widget-view+json": {
       "model_id": "686d235c9874402ba6c45a2250806cf7",
       "version_major": 2,
       "version_minor": 0
      },
      "text/plain": [
       "  0%|          | 0/20 [00:00<?, ?it/s]"
      ]
     },
     "metadata": {},
     "output_type": "display_data"
    }
   ],
   "source": [
    "for idx, batch in enumerate(tqdm(test_dataloader)):\n",
    "    with torch.no_grad():\n",
    "            pixel_values = batch[\"pixel_values\"].to(device)\n",
    "            labels = batch[\"labels\"].to(device)\n",
    "\n",
    "            outputs = model(pixel_values=pixel_values)\n",
    "            logits = outputs.logits\n",
    "\n",
    "            logits_tensor = nn.functional.interpolate(\n",
    "                logits,\n",
    "                size=labels.shape[-2:],\n",
    "                mode=\"bilinear\",\n",
    "                align_corners=False,\n",
    "            ).argmax(dim=1)\n",
    "\n",
    "            test_metric.add_batch(predictions=logits_tensor.detach().cpu().numpy(), references=labels.detach().cpu().numpy())\n",
    "\n",
    "test_metrics = test_metric.compute(num_labels=7,ignore_index=255)\n"
   ]
  },
  {
   "cell_type": "code",
   "execution_count": 5,
   "id": "a65fcd27",
   "metadata": {},
   "outputs": [
    {
     "name": "stdout",
     "output_type": "stream",
     "text": [
      "Test Mean_iou: 0.5871265122397915\n",
      "Test Mean accuracy: 0.7415054855590087\n",
      "Test iou for each class: {'background': 0.49401247518361086, 'skin': 0.9369229141196831, 'hair': 0.6763181153556446, 'tshirt': 0.6519135317564225, 'shoes': 0.36113826076400296, 'pants': 0.435149316618306, 'dress': 0.5544309718808705}\n",
      "Test accuracy for each class: {'background': 0.65428734326724, 'skin': 0.9623686083986278, 'hair': 0.88391799726913, 'tshirt': 0.8353590748272944, 'shoes': 0.5408527209706663, 'pants': 0.6130508178067916, 'dress': 0.7007018363733105}\n"
     ]
    }
   ],
   "source": [
    "print(\"Test Mean_iou:\", test_metrics[\"mean_iou\"])\n",
    "print(\"Test Mean accuracy:\", test_metrics[\"mean_accuracy\"])\n",
    "\n",
    "print(\"Test iou for each class:\", {value: test_metrics[\"per_category_iou\"][key-1] for key, value in id2label.items()})\n",
    "print(\"Test accuracy for each class:\", {value: test_metrics[\"per_category_accuracy\"][key-1] for key, value in id2label.items()})"
   ]
  }
 ],
 "metadata": {
  "kernelspec": {
   "display_name": "Python 3 (ipykernel)",
   "language": "python",
   "name": "python3"
  },
  "language_info": {
   "codemirror_mode": {
    "name": "ipython",
    "version": 3
   },
   "file_extension": ".py",
   "mimetype": "text/x-python",
   "name": "python",
   "nbconvert_exporter": "python",
   "pygments_lexer": "ipython3",
   "version": "3.8.16"
  }
 },
 "nbformat": 4,
 "nbformat_minor": 5
}
